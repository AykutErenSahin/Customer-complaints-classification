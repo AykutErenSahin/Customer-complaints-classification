{
  "nbformat": 4,
  "nbformat_minor": 0,
  "metadata": {
    "colab": {
      "provenance": []
    },
    "kernelspec": {
      "name": "python3",
      "display_name": "Python 3"
    },
    "language_info": {
      "name": "python"
    }
  },
  "cells": [
    {
      "cell_type": "code",
      "source": [
        "!pip install zemberek-python          #gerekli yüklemeler\n",
        "!pip install python-Levenshtein"
      ],
      "metadata": {
        "id": "sGONmJlBwuqN",
        "colab": {
          "base_uri": "https://localhost:8080/"
        },
        "outputId": "573153aa-64b3-4456-94f6-240bcf18ec91"
      },
      "execution_count": null,
      "outputs": [
        {
          "output_type": "stream",
          "name": "stdout",
          "text": [
            "Collecting zemberek-python\n",
            "  Downloading zemberek_python-0.2.3-py3-none-any.whl.metadata (2.7 kB)\n",
            "Collecting antlr4-python3-runtime==4.8 (from zemberek-python)\n",
            "  Downloading antlr4-python3-runtime-4.8.tar.gz (112 kB)\n",
            "\u001b[2K     \u001b[90m━━━━━━━━━━━━━━━━━━━━━━━━━━━━━━━━━━━━━━━━\u001b[0m \u001b[32m112.4/112.4 kB\u001b[0m \u001b[31m5.2 MB/s\u001b[0m eta \u001b[36m0:00:00\u001b[0m\n",
            "\u001b[?25h  Preparing metadata (setup.py) ... \u001b[?25l\u001b[?25hdone\n",
            "Requirement already satisfied: numpy>=1.19.0 in /usr/local/lib/python3.10/dist-packages (from zemberek-python) (1.26.4)\n",
            "Downloading zemberek_python-0.2.3-py3-none-any.whl (95.1 MB)\n",
            "\u001b[2K   \u001b[90m━━━━━━━━━━━━━━━━━━━━━━━━━━━━━━━━━━━━━━━━\u001b[0m \u001b[32m95.1/95.1 MB\u001b[0m \u001b[31m6.7 MB/s\u001b[0m eta \u001b[36m0:00:00\u001b[0m\n",
            "\u001b[?25hBuilding wheels for collected packages: antlr4-python3-runtime\n",
            "  Building wheel for antlr4-python3-runtime (setup.py) ... \u001b[?25l\u001b[?25hdone\n",
            "  Created wheel for antlr4-python3-runtime: filename=antlr4_python3_runtime-4.8-py3-none-any.whl size=141213 sha256=b59c0f93dc7df3f0b960c274391dcd11bbe14b2a7dd1514ad76f8b2e2b4627ae\n",
            "  Stored in directory: /root/.cache/pip/wheels/a7/20/bd/e1477d664f22d99989fd28ee1a43d6633dddb5cb9e801350d5\n",
            "Successfully built antlr4-python3-runtime\n",
            "Installing collected packages: antlr4-python3-runtime, zemberek-python\n",
            "Successfully installed antlr4-python3-runtime-4.8 zemberek-python-0.2.3\n",
            "Collecting python-Levenshtein\n",
            "  Downloading python_Levenshtein-0.25.1-py3-none-any.whl.metadata (3.7 kB)\n",
            "Collecting Levenshtein==0.25.1 (from python-Levenshtein)\n",
            "  Downloading Levenshtein-0.25.1-cp310-cp310-manylinux_2_17_x86_64.manylinux2014_x86_64.whl.metadata (3.3 kB)\n",
            "Collecting rapidfuzz<4.0.0,>=3.8.0 (from Levenshtein==0.25.1->python-Levenshtein)\n",
            "  Downloading rapidfuzz-3.9.6-cp310-cp310-manylinux_2_17_x86_64.manylinux2014_x86_64.whl.metadata (12 kB)\n",
            "Downloading python_Levenshtein-0.25.1-py3-none-any.whl (9.4 kB)\n",
            "Downloading Levenshtein-0.25.1-cp310-cp310-manylinux_2_17_x86_64.manylinux2014_x86_64.whl (177 kB)\n",
            "\u001b[2K   \u001b[90m━━━━━━━━━━━━━━━━━━━━━━━━━━━━━━━━━━━━━━━━\u001b[0m \u001b[32m177.4/177.4 kB\u001b[0m \u001b[31m5.0 MB/s\u001b[0m eta \u001b[36m0:00:00\u001b[0m\n",
            "\u001b[?25hDownloading rapidfuzz-3.9.6-cp310-cp310-manylinux_2_17_x86_64.manylinux2014_x86_64.whl (3.4 MB)\n",
            "\u001b[2K   \u001b[90m━━━━━━━━━━━━━━━━━━━━━━━━━━━━━━━━━━━━━━━━\u001b[0m \u001b[32m3.4/3.4 MB\u001b[0m \u001b[31m43.5 MB/s\u001b[0m eta \u001b[36m0:00:00\u001b[0m\n",
            "\u001b[?25hInstalling collected packages: rapidfuzz, Levenshtein, python-Levenshtein\n",
            "Successfully installed Levenshtein-0.25.1 python-Levenshtein-0.25.1 rapidfuzz-3.9.6\n"
          ]
        }
      ]
    },
    {
      "cell_type": "code",
      "execution_count": null,
      "metadata": {
        "id": "sW5JQfhqoCdm",
        "colab": {
          "base_uri": "https://localhost:8080/"
        },
        "outputId": "dddcd913-8b57-42c0-dda8-206f11319fd2"
      },
      "outputs": [
        {
          "output_type": "stream",
          "name": "stderr",
          "text": [
            "[nltk_data] Downloading package punkt to /root/nltk_data...\n",
            "[nltk_data]   Unzipping tokenizers/punkt.zip.\n"
          ]
        }
      ],
      "source": [
        "import pandas as pd\n",
        "import numpy as np\n",
        "from snowballstemmer import TurkishStemmer\n",
        "import nltk\n",
        "from nltk.tokenize import word_tokenize\n",
        "nltk.download('punkt')\n",
        "import string\n",
        "from sklearn.model_selection import train_test_split\n",
        "from sklearn.metrics import accuracy_score\n",
        "from zemberek import TurkishSpellChecker, TurkishMorphology, TurkishTokenizer\n",
        "from sklearn.feature_extraction.text import TfidfVectorizer\n",
        "from sklearn.naive_bayes import MultinomialNB, ComplementNB\n",
        "from sklearn.svm import LinearSVC\n",
        "from sklearn.pipeline import Pipeline\n",
        "import re"
      ]
    },
    {
      "cell_type": "code",
      "source": [
        "url = \"https://raw.githubusercontent.com/AykutErenSahin/Customer-complaints-classification/main/atm.csv\"\n",
        "data = pd.read_csv(url, sep=';', encoding='cp1254', on_bad_lines='skip')          #türkçe encoding\n",
        "df = pd.DataFrame(data)\n",
        "\n",
        "df['Etiket'] = pd.factorize(df['Kategori'], sort=True)[0]      #kategorilere sayı ataması yapıyoruz"
      ],
      "metadata": {
        "id": "QVc5WyprwZmf"
      },
      "execution_count": null,
      "outputs": []
    },
    {
      "cell_type": "code",
      "source": [
        "from zemberek import (\n",
        "    TurkishMorphology,\n",
        "    TurkishSentenceNormalizer,\n",
        "    TurkishSentenceExtractor\n",
        ")\n",
        "import re\n",
        "\n",
        "morphology = TurkishMorphology.create_with_defaults()\n",
        "normalizer = TurkishSentenceNormalizer(morphology)\n",
        "extractor = TurkishSentenceExtractor()\n",
        "\n",
        "def preprocess_with_zemberek(text):\n",
        "    # cleaning\n",
        "    text = text.lower()\n",
        "    text = re.sub(r'[^\\w\\s]', '', text)\n",
        "    text = re.sub(r'\\s+', ' ', text).strip()\n",
        "\n",
        "    # tokenize and normalize\n",
        "    sentences = extractor.from_paragraph(text)\n",
        "    processed_words = []\n",
        "\n",
        "    for sentence in sentences:\n",
        "        normalized = normalizer.normalize(sentence)\n",
        "        tokens = normalized.split()\n",
        "\n",
        "        for word in tokens:\n",
        "            # stemming\n",
        "            analysis = morphology.analyze(word)\n",
        "            if analysis.analysis_results:\n",
        "                word = str(analysis.analysis_results[0].item.lemma)\n",
        "\n",
        "            processed_words.append(word)\n",
        "\n",
        "    return ' '.join(processed_words)"
      ],
      "metadata": {
        "colab": {
          "base_uri": "https://localhost:8080/"
        },
        "id": "zyXve5qj66di",
        "outputId": "5cf189b3-2c16-4a72-d734-d66fad6f75bd"
      },
      "execution_count": null,
      "outputs": [
        {
          "output_type": "stream",
          "name": "stderr",
          "text": [
            "INFO:zemberek.morphology.turkish_morphology:TurkishMorphology instance initialized in 26.161006689071655\n"
          ]
        },
        {
          "output_type": "stream",
          "name": "stdout",
          "text": [
            "2024-08-14 06:36:51,548 - zemberek.morphology.turkish_morphology - INFO\n",
            "Msg: TurkishMorphology instance initialized in 26.161006689071655\n",
            "\n"
          ]
        }
      ]
    },
    {
      "cell_type": "code",
      "source": [
        "df['islenmis_Yorum'] = df['Yorum'].apply(preprocess_with_zemberek)"
      ],
      "metadata": {
        "colab": {
          "base_uri": "https://localhost:8080/",
          "height": 711
        },
        "id": "JCozyspY5r3Z",
        "outputId": "f824d621-7c3a-40f2-e03b-3952c8e7a6af"
      },
      "execution_count": null,
      "outputs": [
        {
          "output_type": "execute_result",
          "data": {
            "text/plain": [
              "0     Sakarya 1 tane Atm var o da banka yanında biz ...\n",
              "1     0 puan vermek amaç Atm kart yuva sokmak ileri ...\n",
              "2                               Rize Albaraka şube Doru\n",
              "3     diğer banka bakmak ne Atm ne mobil uygulamak ç...\n",
              "4     ortak Atm yok mağaza geçerli ayrıcalık yok iht...\n",
              "5                                   Atm biz yok çok yer\n",
              "6     Atm men düzce merkez Birtane başka yok sürekli...\n",
              "7                                 Albaraka memnun değil\n",
              "8                     qr kod ok hız çok yavaş ve okumak\n",
              "9     mobil İnternet Par çok zor gitmek bazen bir ye...\n",
              "10                                         memnun değil\n",
              "11    banmak telefon veya mesaj numara sormak yaslam...\n",
              "12                                      Atm ve şube yok\n",
              "13                           Atm niz yok ki hiç bir yer\n",
              "14                                      her yer Atm tok\n",
              "15    banka ben olmak bir sebep dolayı suçlamak o yü...\n",
              "16    ilgilenmek sıfır ek hesap başvuru yapmak istem...\n",
              "17                       Ko a şehir 2 Atm o da yan yana\n",
              "18    hiç memnun olmak 3000 çekmek her bank ne kadar...\n",
              "19    çok zaman almak uğraşmak pratik değil mesai sa...\n",
              "Name: islenmis_Yorum, dtype: object"
            ],
            "text/html": [
              "<div>\n",
              "<style scoped>\n",
              "    .dataframe tbody tr th:only-of-type {\n",
              "        vertical-align: middle;\n",
              "    }\n",
              "\n",
              "    .dataframe tbody tr th {\n",
              "        vertical-align: top;\n",
              "    }\n",
              "\n",
              "    .dataframe thead th {\n",
              "        text-align: right;\n",
              "    }\n",
              "</style>\n",
              "<table border=\"1\" class=\"dataframe\">\n",
              "  <thead>\n",
              "    <tr style=\"text-align: right;\">\n",
              "      <th></th>\n",
              "      <th>islenmis_Yorum</th>\n",
              "    </tr>\n",
              "  </thead>\n",
              "  <tbody>\n",
              "    <tr>\n",
              "      <th>0</th>\n",
              "      <td>Sakarya 1 tane Atm var o da banka yanında biz ...</td>\n",
              "    </tr>\n",
              "    <tr>\n",
              "      <th>1</th>\n",
              "      <td>0 puan vermek amaç Atm kart yuva sokmak ileri ...</td>\n",
              "    </tr>\n",
              "    <tr>\n",
              "      <th>2</th>\n",
              "      <td>Rize Albaraka şube Doru</td>\n",
              "    </tr>\n",
              "    <tr>\n",
              "      <th>3</th>\n",
              "      <td>diğer banka bakmak ne Atm ne mobil uygulamak ç...</td>\n",
              "    </tr>\n",
              "    <tr>\n",
              "      <th>4</th>\n",
              "      <td>ortak Atm yok mağaza geçerli ayrıcalık yok iht...</td>\n",
              "    </tr>\n",
              "    <tr>\n",
              "      <th>5</th>\n",
              "      <td>Atm biz yok çok yer</td>\n",
              "    </tr>\n",
              "    <tr>\n",
              "      <th>6</th>\n",
              "      <td>Atm men düzce merkez Birtane başka yok sürekli...</td>\n",
              "    </tr>\n",
              "    <tr>\n",
              "      <th>7</th>\n",
              "      <td>Albaraka memnun değil</td>\n",
              "    </tr>\n",
              "    <tr>\n",
              "      <th>8</th>\n",
              "      <td>qr kod ok hız çok yavaş ve okumak</td>\n",
              "    </tr>\n",
              "    <tr>\n",
              "      <th>9</th>\n",
              "      <td>mobil İnternet Par çok zor gitmek bazen bir ye...</td>\n",
              "    </tr>\n",
              "    <tr>\n",
              "      <th>10</th>\n",
              "      <td>memnun değil</td>\n",
              "    </tr>\n",
              "    <tr>\n",
              "      <th>11</th>\n",
              "      <td>banmak telefon veya mesaj numara sormak yaslam...</td>\n",
              "    </tr>\n",
              "    <tr>\n",
              "      <th>12</th>\n",
              "      <td>Atm ve şube yok</td>\n",
              "    </tr>\n",
              "    <tr>\n",
              "      <th>13</th>\n",
              "      <td>Atm niz yok ki hiç bir yer</td>\n",
              "    </tr>\n",
              "    <tr>\n",
              "      <th>14</th>\n",
              "      <td>her yer Atm tok</td>\n",
              "    </tr>\n",
              "    <tr>\n",
              "      <th>15</th>\n",
              "      <td>banka ben olmak bir sebep dolayı suçlamak o yü...</td>\n",
              "    </tr>\n",
              "    <tr>\n",
              "      <th>16</th>\n",
              "      <td>ilgilenmek sıfır ek hesap başvuru yapmak istem...</td>\n",
              "    </tr>\n",
              "    <tr>\n",
              "      <th>17</th>\n",
              "      <td>Ko a şehir 2 Atm o da yan yana</td>\n",
              "    </tr>\n",
              "    <tr>\n",
              "      <th>18</th>\n",
              "      <td>hiç memnun olmak 3000 çekmek her bank ne kadar...</td>\n",
              "    </tr>\n",
              "    <tr>\n",
              "      <th>19</th>\n",
              "      <td>çok zaman almak uğraşmak pratik değil mesai sa...</td>\n",
              "    </tr>\n",
              "  </tbody>\n",
              "</table>\n",
              "</div><br><label><b>dtype:</b> object</label>"
            ]
          },
          "metadata": {},
          "execution_count": 8
        }
      ]
    },
    {
      "cell_type": "code",
      "source": [
        "complaints = df['islenmis_Yorum']\n",
        "categories = df['Etiket']\n",
        "\n",
        "complaints_train, complaints_test, categories_train, categories_test = train_test_split(complaints, categories, test_size= 0.2, random_state=23)"
      ],
      "metadata": {
        "id": "_pMof1f942jc"
      },
      "execution_count": null,
      "outputs": []
    },
    {
      "cell_type": "code",
      "source": [
        "pipeSVC = Pipeline([ ('tfidf', TfidfVectorizer(ngram_range=(1, 2), max_features=5000)), ('clf', LinearSVC()) ])"
      ],
      "metadata": {
        "id": "Pe1Kh04L5vG5"
      },
      "execution_count": 17,
      "outputs": []
    },
    {
      "cell_type": "code",
      "source": [
        "pipeSVC.fit(complaints_train,categories_train)\n",
        "predictSVC = pipeSVC.predict(complaints_test)\n",
        "print(\"SVC : {:.2f}\".format(accuracy_score(categories_test, predictSVC)))"
      ],
      "metadata": {
        "colab": {
          "base_uri": "https://localhost:8080/"
        },
        "id": "Tg1_Qi0_5va9",
        "outputId": "aa5d081d-bd71-4da9-9501-f32a71ed7158"
      },
      "execution_count": 18,
      "outputs": [
        {
          "output_type": "stream",
          "name": "stdout",
          "text": [
            "SVC : 0.82\n"
          ]
        },
        {
          "output_type": "stream",
          "name": "stderr",
          "text": [
            "/usr/local/lib/python3.10/dist-packages/sklearn/svm/_classes.py:32: FutureWarning: The default value of `dual` will change from `True` to `'auto'` in 1.5. Set the value of `dual` explicitly to suppress the warning.\n",
            "  warnings.warn(\n"
          ]
        }
      ]
    },
    {
      "cell_type": "code",
      "source": [
        "input_file = input(\"Lütfen csv dosyasının yolunu girin: \")\n",
        "df_in = pd.read_csv(input_file)"
      ],
      "metadata": {
        "colab": {
          "base_uri": "https://localhost:8080/"
        },
        "id": "Y9YaL3O4iNJT",
        "outputId": "0f4b4ca0-7c90-498c-add4-39972b73a676"
      },
      "execution_count": 20,
      "outputs": [
        {
          "name": "stdout",
          "output_type": "stream",
          "text": [
            "Lütfen csv dosyasının yolunu girin: https://raw.githubusercontent.com/AykutErenSahin/Customer-complaints-classification/main/ATM_test.csv\n"
          ]
        }
      ]
    },
    {
      "cell_type": "code",
      "source": [
        "predict_in = pipeSVC.predict(df_in['Yorum'])\n",
        "df_in['Etiket'] = predict_in\n",
        "output_file = input(\"Lütfen çıktı dosyasının adını girin (örn: sonuclar.csv): \")\n",
        "df_in.to_csv(output_file, index=False)\n",
        "\n",
        "print(f\"Sınıflandırma tamamlandı. Sonuçlar {output_file} dosyasına kaydedildi.\")"
      ],
      "metadata": {
        "colab": {
          "base_uri": "https://localhost:8080/"
        },
        "id": "ZPCPScUYiNam",
        "outputId": "379f0d86-c806-493d-ca28-2d25cc7f2c22"
      },
      "execution_count": 21,
      "outputs": [
        {
          "output_type": "stream",
          "name": "stdout",
          "text": [
            "Lütfen çıktı dosyasının adını girin (örn: sonuclar.csv): son.csv\n",
            "Sınıflandırma tamamlandı. Sonuçlar son.csv dosyasına kaydedildi.\n"
          ]
        }
      ]
    },
    {
      "cell_type": "code",
      "source": [
        "print(\"SVC : {:.2f}\".format(accuracy_score(df['Etiket'], predict_in))) # accuracy'i kontrol etme"
      ],
      "metadata": {
        "colab": {
          "base_uri": "https://localhost:8080/"
        },
        "id": "VCMsU8-koyCW",
        "outputId": "c8ada4a8-9cc8-4259-b3ab-a2415bff7701"
      },
      "execution_count": 22,
      "outputs": [
        {
          "output_type": "stream",
          "name": "stdout",
          "text": [
            "SVC : 0.80\n"
          ]
        }
      ]
    }
  ]
}